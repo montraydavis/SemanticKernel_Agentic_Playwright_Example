{
    "cells": [
        {
            "cell_type": "markdown",
            "id": "header",
            "metadata": {},
            "source": [
                "# Playwright Agentic Tutorial\n",
                "\n",
                "This notebook demonstrates how to create an AI agent that can autonomously search Google and summarize web content using Microsoft Semantic Kernel and Playwright.\n",
                "\n",
                "## What You'll Learn\n",
                "- Create browser automation functions as Semantic Kernel plugins\n",
                "- Build an AI agent that can control a web browser\n",
                "- Implement automated Google search and content summarization\n",
                "- Handle real-world web automation scenarios"
            ]
        },
        {
            "cell_type": "markdown",
            "id": "installation-section",
            "metadata": {},
            "source": [
                "## 1. Package Installation\n",
                "\n",
                "First, we'll install the required packages for Semantic Kernel, Playwright, and dependency injection.\n",
                "\n",
                "The following packages are required for this tutorial:\n",
                "\n",
                "- Microsoft.SemanticKernel: Provides the core functionality for building AI agents.\n",
                "- Microsoft.SemanticKernel.Agents.Core: Contains essential components for agent-based systems.\n",
                "- Microsoft.Playwright: Enables browser automation for web interactions.\n",
                "- Microsoft.Extensions.DependencyInjection: Facilitates dependency injection for better modularity.\n",
                "- Microsoft.Extensions.Hosting: Supports hosting and application lifetime management.\n",
                "- Microsoft.Extensions.Logging: Offers logging capabilities to track and debug application behavior.\n"
            ]
        },
        {
            "cell_type": "code",
            "execution_count": 1,
            "id": "package-installation",
            "metadata": {
                "polyglot_notebook": {
                    "kernelName": "csharp"
                }
            },
            "outputs": [
                {
                    "data": {
                        "text/html": [
                            "<div><div></div><div></div><div><strong>Installed Packages</strong><ul><li><span>Microsoft.Extensions.DependencyInjection, 9.0.7</span></li><li><span>Microsoft.Extensions.Hosting, 9.0.7</span></li><li><span>Microsoft.Extensions.Logging, 9.0.7</span></li><li><span>Microsoft.Playwright, 1.54.0</span></li><li><span>Microsoft.SemanticKernel, 1.60.0</span></li><li><span>Microsoft.SemanticKernel.Agents.Core, 1.60.0</span></li></ul></div></div>"
                        ]
                    },
                    "metadata": {},
                    "output_type": "display_data"
                }
            ],
            "source": [
                "#r \"nuget: Microsoft.SemanticKernel\"\n",
                "#r \"nuget: Microsoft.SemanticKernel.Agents.Core, *-*\"\n",
                "#r \"nuget: Microsoft.Playwright\"\n",
                "#r \"nuget: Microsoft.Extensions.DependencyInjection\"\n",
                "#r \"nuget: Microsoft.Extensions.Hosting\"\n",
                "#r \"nuget: Microsoft.Extensions.Logging\""
            ]
        },
        {
            "cell_type": "markdown",
            "id": "imports-section",
            "metadata": {},
            "source": [
                "## 2. Imports and Configuration\n",
                "\n",
                "Import necessary namespaces and configure experimental features."
            ]
        },
        {
            "cell_type": "code",
            "execution_count": 12,
            "id": "imports",
            "metadata": {
                "polyglot_notebook": {
                    "kernelName": "csharp"
                }
            },
            "outputs": [],
            "source": [
                "#pragma warning disable SKEXP0110 // Agents are experimental\n",
                "\n",
                "using Microsoft.Extensions.DependencyInjection;\n",
                "using Microsoft.Extensions.Hosting;\n",
                "using Microsoft.Extensions.Logging;\n",
                "using Microsoft.SemanticKernel;\n",
                "using Microsoft.SemanticKernel.Connectors.OpenAI;\n",
                "using Microsoft.SemanticKernel.Agents;\n",
                "using Microsoft.Playwright;\n",
                "using System;\n",
                "using System.ComponentModel;\n",
                "using System.Text.Json;"
            ]
        },
        {
            "cell_type": "markdown",
            "id": "playwright-setup-section",
            "metadata": {},
            "source": [
                "## 3. Playwright Setup\n",
                "\n",
                "Initialize Playwright and install browser binaries if needed."
            ]
        },
        {
            "cell_type": "code",
            "execution_count": 3,
            "id": "playwright-setup",
            "metadata": {
                "polyglot_notebook": {
                    "kernelName": "csharp"
                }
            },
            "outputs": [
                {
                    "name": "stdout",
                    "output_type": "stream",
                    "text": [
                        "✅ Playwright initialized successfully\r\n"
                    ]
                }
            ],
            "source": [
                "// Initialize Playwright (this will download browser binaries if not present)\n",
                "Microsoft.Playwright.Program.Main(new[] { \"install\", \"chromium\" });\n",
                "\n",
                "Console.WriteLine(\"✅ Playwright initialized successfully\");"
            ]
        },
        {
            "cell_type": "markdown",
            "id": "plugin-section",
            "metadata": {},
            "source": [
                "## 4. Browser Plugin Definition\n",
                "\n",
                "Create a plugin that provides browser automation capabilities to our AI agent."
            ]
        },
        {
            "cell_type": "code",
            "execution_count": 4,
            "id": "browser-plugin",
            "metadata": {
                "polyglot_notebook": {
                    "kernelName": "csharp"
                }
            },
            "outputs": [
                {
                    "name": "stdout",
                    "output_type": "stream",
                    "text": [
                        "✅ BrowserPlugin defined successfully\r\n"
                    ]
                }
            ],
            "source": [
                "public class BrowserPlugin : IDisposable\n",
                "{\n",
                "    private IPlaywright? _playwright;\n",
                "    private IBrowser? _browser;\n",
                "    private IPage? _page;\n",
                "\n",
                "    [KernelFunction(nameof(LaunchBrowser))]\n",
                "    [Description(\"Launch a web browser for automation\")]\n",
                "    public async Task<string> LaunchBrowser()\n",
                "    {\n",
                "        try\n",
                "        {\n",
                "            _playwright = await Playwright.CreateAsync();\n",
                "            _browser = await _playwright.Chromium.LaunchAsync(new BrowserTypeLaunchOptions\n",
                "            {\n",
                "                Headless = false // Set to true for headless mode\n",
                "            });\n",
                "            _page = await _browser.NewPageAsync();\n",
                "            \n",
                "            return \"Browser launched successfully\";\n",
                "        }\n",
                "        catch (Exception ex)\n",
                "        {\n",
                "            return $\"Failed to launch browser: {ex.Message}\";\n",
                "        }\n",
                "    }\n",
                "\n",
                "    [KernelFunction(nameof(NavigateToGoogle))]\n",
                "    [Description(\"Navigate to Google search page\")]\n",
                "    public async Task<string> NavigateToGoogle()\n",
                "    {\n",
                "        try\n",
                "        {\n",
                "            if (_page == null) return \"Browser not initialized. Call LaunchBrowser first.\";\n",
                "            \n",
                "            await _page.GotoAsync(\"https://www.google.com\");\n",
                "            await _page.WaitForLoadStateAsync(LoadState.NetworkIdle);\n",
                "            \n",
                "            return \"Successfully navigated to Google\";\n",
                "        }\n",
                "        catch (Exception ex)\n",
                "        {\n",
                "            return $\"Failed to navigate to Google: {ex.Message}\";\n",
                "        }\n",
                "    }\n",
                "\n",
                "    [KernelFunction(nameof(SearchFor))]\n",
                "    [Description(\"Perform a search on Google\")]\n",
                "    public async Task<string> SearchFor(string query)\n",
                "    {\n",
                "        try\n",
                "        {\n",
                "            if (_page == null) return \"Browser not initialized. Call LaunchBrowser first.\";\n",
                "            \n",
                "            // Find search box and enter query\n",
                "            await _page.FillAsync(\"textarea[name='q']\", query);\n",
                "            await _page.PressAsync(\"textarea[name='q']\", \"Enter\");\n",
                "            \n",
                "            // Wait for search results\n",
                "            await _page.WaitForSelectorAsync(\"#search\");\n",
                "            \n",
                "            return $\"Search completed for: {query}\";\n",
                "        }\n",
                "        catch (Exception ex)\n",
                "        {\n",
                "            return $\"Failed to search: {ex.Message}\";\n",
                "        }\n",
                "    }\n",
                "\n",
                "    [KernelFunction(nameof(GetSearchResults))]\n",
                "    [Description(\"Extract search result titles and URLs from Google search results\")]\n",
                "    public async Task<string> GetSearchResults()\n",
                "    {\n",
                "        try\n",
                "        {\n",
                "            if (_page == null) return \"Browser not initialized. Call LaunchBrowser first.\";\n",
                "            \n",
                "            // Extract search results\n",
                "            var results = await _page.EvaluateAsync<object[]>(@\"\n",
                "                () => {\n",
                "                    const results = [];\n",
                "                    const searchResults = document.querySelectorAll('div[data-ved] h3');\n",
                "                    \n",
                "                    for (let i = 0; i < Math.min(5, searchResults.length); i++) {\n",
                "                        const element = searchResults[i];\n",
                "                        const link = element.closest('a');\n",
                "                        if (link) {\n",
                "                            results.push({\n",
                "                                title: element.textContent,\n",
                "                                url: link.href\n",
                "                            });\n",
                "                        }\n",
                "                    }\n",
                "                    \n",
                "                    return results;\n",
                "                }\n",
                "            \");\n",
                "            \n",
                "            return JsonSerializer.Serialize(results, new JsonSerializerOptions { WriteIndented = true });\n",
                "        }\n",
                "        catch (Exception ex)\n",
                "        {\n",
                "            return $\"Failed to extract search results: {ex.Message}\";\n",
                "        }\n",
                "    }\n",
                "\n",
                "    [KernelFunction(nameof(GetPageContent))]\n",
                "    [Description(\"Navigate to a URL and extract the main content of the page\")]\n",
                "    public async Task<string> GetPageContent(string url)\n",
                "    {\n",
                "        try\n",
                "        {\n",
                "            if (_page == null) return \"Browser not initialized. Call LaunchBrowser first.\";\n",
                "            \n",
                "            await _page.GotoAsync(url);\n",
                "            await _page.WaitForLoadStateAsync(LoadState.NetworkIdle);\n",
                "            \n",
                "            // Extract main content (trying common content selectors)\n",
                "            var content = await _page.EvaluateAsync<string>(@\"\n",
                "                () => {\n",
                "                    // Try various content selectors\n",
                "                    const selectors = ['article', 'main', '.content', '.post-content', '.entry-content', 'body'];\n",
                "                    \n",
                "                    for (const selector of selectors) {\n",
                "                        const element = document.querySelector(selector);\n",
                "                        if (element && element.textContent.trim().length > 100) {\n",
                "                            return element.textContent.trim().substring(0, 2000); // Limit to 2000 chars\n",
                "                        }\n",
                "                    }\n",
                "                    \n",
                "                    return document.body.textContent.trim().substring(0, 2000);\n",
                "                }\n",
                "            \");\n",
                "            \n",
                "            return content ?? \"No content found\";\n",
                "        }\n",
                "        catch (Exception ex)\n",
                "        {\n",
                "            return $\"Failed to get page content: {ex.Message}\";\n",
                "        }\n",
                "    }\n",
                "\n",
                "    public void Dispose()\n",
                "    {\n",
                "        _page?.CloseAsync().Wait();\n",
                "        _browser?.CloseAsync().Wait();\n",
                "        _playwright?.Dispose();\n",
                "    }\n",
                "}\n",
                "\n",
                "Console.WriteLine(\"✅ BrowserPlugin defined successfully\");"
            ]
        },
        {
            "cell_type": "markdown",
            "id": "kernel-setup-section",
            "metadata": {},
            "source": [
                "## 5. Kernel and Agent Setup\n",
                "\n",
                "Configure the Semantic Kernel with OpenAI and register our browser plugin."
            ]
        },
        {
            "cell_type": "code",
            "execution_count": 5,
            "id": "kernel-setup",
            "metadata": {
                "polyglot_notebook": {
                    "kernelName": "csharp"
                }
            },
            "outputs": [
                {
                    "name": "stdout",
                    "output_type": "stream",
                    "text": [
                        "✅ Kernel configured with OpenAI and BrowserPlugin\r\n"
                    ]
                }
            ],
            "source": [
                "// Create kernel with OpenAI\n",
                "var builder = Kernel.CreateBuilder()\n",
                "    .AddOpenAIChatCompletion(\"gpt-4o-mini\", Environment.GetEnvironmentVariable(\"OPENAI_API_KEY\"));\n",
                "\n",
                "var kernel = builder.Build();\n",
                "\n",
                "// Register browser plugin\n",
                "var browserPlugin = new BrowserPlugin();\n",
                "kernel.Plugins.AddFromObject(browserPlugin, \"Browser\");\n",
                "\n",
                "Console.WriteLine(\"✅ Kernel configured with OpenAI and BrowserPlugin\");"
            ]
        },
        {
            "cell_type": "markdown",
            "id": "execution-settings-section",
            "metadata": {},
            "source": [
                "## 6. Function Calling Configuration\n",
                "\n",
                "Configure execution settings to enable automatic function calling."
            ]
        },
        {
            "cell_type": "code",
            "execution_count": 13,
            "id": "execution-settings",
            "metadata": {
                "polyglot_notebook": {
                    "kernelName": "csharp"
                }
            },
            "outputs": [
                {
                    "name": "stdout",
                    "output_type": "stream",
                    "text": [
                        "✅ Function calling configuration set\r\n"
                    ]
                }
            ],
            "source": [
                "// Configure function calling behavior\n",
                "var executionSettings = new OpenAIPromptExecutionSettings()\n",
                "{\n",
                "    FunctionChoiceBehavior = FunctionChoiceBehavior.Auto(),\n",
                "    MaxTokens = 2000,\n",
                "    Temperature = 0.1\n",
                "};\n",
                "\n",
                "Console.WriteLine(\"✅ Function calling configuration set\");"
            ]
        },
        {
            "cell_type": "markdown",
            "id": "agent-creation-section",
            "metadata": {},
            "source": [
                "## 7. Research Agent Creation\n",
                "\n",
                "Create an AI agent that can autonomously use the browser functions to research topics."
            ]
        },
        {
            "cell_type": "code",
            "execution_count": 15,
            "id": "agent-creation",
            "metadata": {
                "polyglot_notebook": {
                    "kernelName": "csharp"
                }
            },
            "outputs": [
                {
                    "name": "stdout",
                    "output_type": "stream",
                    "text": [
                        "✅ ResearchAgent created successfully with function calling enabled\r\n"
                    ]
                }
            ],
            "source": [
                "// Create the research agent with proper function calling configuration\n",
                "var researchAgent = new ChatCompletionAgent()\n",
                "{\n",
                "    Name = \"ResearchAgent\",\n",
                "    Instructions = \"\"\"\n",
                "        You are a research assistant that can search Google and analyze web content.\n",
                "        \n",
                "        When asked to research a topic:\n",
                "        1. Launch the browser using LaunchBrowser\n",
                "        2. Navigate to Google using NavigateToGoogle\n",
                "        3. Search for the requested topic using SearchFor\n",
                "        4. Get the search results using GetSearchResults\n",
                "        5. Visit the most relevant pages using GetPageContent\n",
                "        6. Provide a comprehensive summary of your findings\n",
                "        \n",
                "        Always use the browser functions to gather real information. Be thorough and provide useful insights.\n",
                "        \"\"\",\n",
                "    Kernel = kernel,\n",
                "    Arguments = new KernelArguments(executionSettings)\n",
                "};\n",
                "\n",
                "Console.WriteLine(\"✅ ResearchAgent created successfully with function calling enabled\");"
            ]
        },
        {
            "cell_type": "markdown",
            "id": "output-structure-section",
            "metadata": {},
            "source": [
                "## 8. Output Data Structure\n",
                "\n",
                "Define a simple structure for organizing research results."
            ]
        },
        {
            "cell_type": "code",
            "execution_count": 8,
            "id": "output-structure",
            "metadata": {
                "polyglot_notebook": {
                    "kernelName": "csharp"
                }
            },
            "outputs": [
                {
                    "name": "stdout",
                    "output_type": "stream",
                    "text": [
                        "✅ Output structure defined\r\n"
                    ]
                }
            ],
            "source": [
                "public record SearchSummary(string Query, string[] ResultTitles, string Summary);\n",
                "\n",
                "Console.WriteLine(\"✅ Output structure defined\");"
            ]
        },
        {
            "cell_type": "markdown",
            "id": "example1-section",
            "metadata": {},
            "source": [
                "## 9. Example: Simple Search and Summarization\n",
                "\n",
                "Let's ask our agent to research a technical topic."
            ]
        },
        {
            "cell_type": "code",
            "execution_count": 17,
            "id": "example1",
            "metadata": {
                "polyglot_notebook": {
                    "kernelName": "csharp"
                }
            },
            "outputs": [
                {
                    "name": "stdout",
                    "output_type": "stream",
                    "text": [
                        "🔍 Researching: What is C# 12 and what are its new features?\n",
                        "\n",
                        "Agent: C# 12, released in 2024, introduces several new features aimed at enhancing the language's capabilities and improving developer productivity. Here’s a summary of the key features:\n",
                        "\n",
                        "1. **Primary Constructors**: This feature allows developers to define constructors directly in the class declaration, simplifying the syntax and reducing boilerplate code. It enables the initialization of properties directly from the constructor parameters.\n",
                        "\n",
                        "2. **Collection Expressions**: C# 12 introduces a new syntax for creating collections, making it easier to initialize collections in a more concise manner. This feature enhances readability and reduces the amount of code needed to create and populate collections.\n",
                        "\n",
                        "3. **Ref Readonly Parameters**: This feature allows parameters to be passed by reference while ensuring they cannot be modified within the method. This is particularly useful for performance optimization when dealing with large structures.\n",
                        "\n",
                        "4. **Default Lambda Parameters**: Developers can now specify default values for parameters in lambda expressions, similar to how it works in regular methods. This adds flexibility and reduces the need for overloads.\n",
                        "\n",
                        "5. **Alias Any Type**: This feature allows developers to create aliases for any type, not just for namespaces. This can simplify code and improve clarity, especially in complex type scenarios.\n",
                        "\n",
                        "6. **Inline Arrays**: C# 12 introduces inline arrays, which allow developers to define arrays directly in the code without needing to declare them separately. This can lead to cleaner and more efficient code.\n",
                        "\n",
                        "7. **Experimental Attribute**: This attribute can be applied to methods or classes to indicate that they are experimental. This helps in managing features that are still under development or testing.\n",
                        "\n",
                        "8. **Interceptors**: This feature allows developers to intercept method calls and modify their behavior at runtime. This can be useful for logging, validation, or other cross-cutting concerns.\n",
                        "\n",
                        "These features collectively aim to make C# more expressive and easier to use, while also improving performance and maintainability of code. The enhancements reflect ongoing efforts to modernize the language and keep it competitive in the evolving landscape of programming languages.\n",
                        "\n",
                        "✅ Research completed\n"
                    ]
                }
            ],
            "source": [
                "// Create conversation thread\n",
                "var thread = new ChatHistoryAgentThread();\n",
                "\n",
                "// Research query\n",
                "string query = \"What is C# 12 and what are its new features?\";\n",
                "\n",
                "Console.WriteLine($\"🔍 Researching: {query}\\n\");\n",
                "\n",
                "// Let the agent research the topic\n",
                "await foreach (var message in researchAgent.InvokeAsync(query, thread))\n",
                "{\n",
                "    Console.WriteLine($\"Agent: {message.Message.Content}\");\n",
                "}\n",
                "\n",
                "Console.WriteLine(\"\\n✅ Research completed\");"
            ]
        },
        {
            "cell_type": "markdown",
            "id": "cleanup-section",
            "metadata": {},
            "source": [
                "## 12. Cleanup\n",
                "\n",
                "Properly dispose of browser resources when finished."
            ]
        },
        {
            "cell_type": "code",
            "execution_count": null,
            "id": "cleanup",
            "metadata": {
                "polyglot_notebook": {
                    "kernelName": "csharp"
                }
            },
            "outputs": [],
            "source": [
                "// Clean up browser resources\n",
                "browserPlugin.Dispose();\n",
                "\n",
                "Console.WriteLine(\"✅ Browser resources cleaned up\");"
            ]
        },
        {
            "cell_type": "markdown",
            "id": "summary-section",
            "metadata": {},
            "source": [
                "## Summary\n",
                "\n",
                "This tutorial demonstrated how to create an AI agent that can:\n",
                "\n",
                "1. **Control a web browser** using Playwright automation\n",
                "2. **Search Google autonomously** based on user queries\n",
                "3. **Extract and analyze web content** from search results\n",
                "4. **Provide intelligent summaries** of research findings\n",
                "5. **Handle follow-up questions** within the same context\n",
                "\n",
                "### Key Components:\n",
                "- **BrowserPlugin**: Provides web automation capabilities as Kernel functions\n",
                "- **ResearchAgent**: AI agent that orchestrates browser operations\n",
                "- **Function Calling**: Automatic selection and execution of browser functions\n",
                "- **Execution Settings**: Proper configuration for function calling behavior\n",
                "\n",
                "### Technical Highlights:\n",
                "- **Automatic Function Selection**: Agent chooses which browser functions to call\n",
                "- **Error Handling**: Graceful failure management in browser operations\n",
                "- **Resource Management**: Proper disposal of browser resources\n",
                "- **Conversation Threading**: Maintains context across multiple interactions\n",
                "\n",
                "### Practical Applications:\n",
                "- Automated research and fact-checking\n",
                "- Real-time information gathering\n",
                "- Competitive analysis\n",
                "- Content discovery and summarization\n",
                "\n",
                "### Next Steps:\n",
                "- Add more sophisticated content extraction\n",
                "- Implement result filtering and ranking\n",
                "- Add support for different search engines\n",
                "- Create specialized research workflows for different domains"
            ]
        }
    ],
    "metadata": {
        "kernelspec": {
            "display_name": ".NET (C#)",
            "language": "C#",
            "name": ".net-csharp"
        },
        "polyglot_notebook": {
            "kernelInfo": {
                "defaultKernelName": "csharp",
                "items": [
                    {
                        "aliases": [],
                        "name": "csharp"
                    }
                ]
            }
        }
    },
    "nbformat": 4,
    "nbformat_minor": 5
}
